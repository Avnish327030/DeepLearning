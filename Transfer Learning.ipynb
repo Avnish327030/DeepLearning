{
 "cells": [
  {
   "cell_type": "markdown",
   "id": "40534afe-403d-4d0e-8972-6154682c076a",
   "metadata": {},
   "source": [
    "## Transfer Learning"
   ]
  },
  {
   "cell_type": "code",
   "execution_count": 1,
   "id": "b380a968-c85e-4c46-836e-2b2b9dfe8762",
   "metadata": {},
   "outputs": [],
   "source": [
    "import os"
   ]
  },
  {
   "cell_type": "code",
   "execution_count": 4,
   "id": "6a3bbb48-a83f-48dd-bfd8-c7dc5c26ec71",
   "metadata": {},
   "outputs": [],
   "source": [
    "model_name=\"digit_classifier_2021_09_12_13_06_06_.h5\""
   ]
  },
  {
   "cell_type": "code",
   "execution_count": 6,
   "id": "594dbe83-9a93-449d-8195-452e367a2810",
   "metadata": {},
   "outputs": [],
   "source": [
    "model_path=os.path.join('SAVED_MODELS',model_name)"
   ]
  },
  {
   "cell_type": "code",
   "execution_count": 7,
   "id": "edeb2cca-6295-42eb-a85d-cc05ac023702",
   "metadata": {},
   "outputs": [
    {
     "data": {
      "text/plain": [
       "'SAVED_MODELS\\\\digit_classifier_2021_09_12_13_06_06_.h5'"
      ]
     },
     "execution_count": 7,
     "metadata": {},
     "output_type": "execute_result"
    }
   ],
   "source": [
    "model_path"
   ]
  },
  {
   "cell_type": "code",
   "execution_count": 8,
   "id": "27431166-ba73-4c4a-85db-c728ea0dea66",
   "metadata": {},
   "outputs": [],
   "source": [
    "import pandas as pd\n",
    "import numpy as np\n",
    "import tensorflow as tf\n",
    "import matplotlib.pyplot as plt\n",
    "import seaborn as sns"
   ]
  },
  {
   "cell_type": "code",
   "execution_count": 9,
   "id": "07f184bb-f966-4059-abf1-53bab0a41298",
   "metadata": {},
   "outputs": [],
   "source": [
    "mnist=tf.keras.datasets.mnist"
   ]
  },
  {
   "cell_type": "code",
   "execution_count": 10,
   "id": "dbe6de5a-6ad6-4826-b346-938b1156dd5b",
   "metadata": {},
   "outputs": [],
   "source": [
    "(X_train_full,y_train_full),(X_test,y_test)=mnist.load_data()"
   ]
  },
  {
   "cell_type": "code",
   "execution_count": 11,
   "id": "e3a449ff-8e90-4eed-a0a8-e28f3b511f1e",
   "metadata": {},
   "outputs": [],
   "source": [
    "X_valid,X_train=X_train_full[:5000]/255.,X_train_full[5000:]/255.\n",
    "y_valid,y_train=y_train_full[:5000],y_train_full[5000:]"
   ]
  },
  {
   "cell_type": "code",
   "execution_count": 12,
   "id": "c5476143-1a61-4fae-ae8d-ad58887911b0",
   "metadata": {},
   "outputs": [
    {
     "data": {
      "image/png": "[encoded data removed]",
      "text/plain": [
       "<Figure size 640x480 with 1 Axes>"
      ]
     },
     "metadata": {},
     "output_type": "display_data"
    }
   ],
   "source": [
    "plt.imshow(X_train[0],cmap=\"binary\")\n",
    "plt.show()"
   ]
  },
  {
   "cell_type": "markdown",
   "id": "0ce36f4d-7429-4690-afb0-f78f26b29b73",
   "metadata": {},
   "source": [
    "## Loading already trained model"
   ]
  },
  {
   "cell_type": "code",
   "execution_count": 13,
   "id": "c2f2411a-0627-42fa-a2e9-36efa486b3ed",
   "metadata": {},
   "outputs": [],
   "source": [
    "pretrained_model=tf.keras.models.load_model(model_path)"
   ]
  },
  {
   "cell_type": "code",
   "execution_count": 14,
   "id": "93b4d56f-020d-4df5-b942-cc147f146817",
   "metadata": {},
   "outputs": [
    {
     "name": "stdout",
     "output_type": "stream",
     "text": [
      "Model: \"sequential\"\n",
      "_________________________________________________________________\n",
      "Layer (type)                 Output Shape              Param #   \n",
      "=================================================================\n",
      "inputLayer (Flatten)         (None, 784)               0         \n",
      "_________________________________________________________________\n",
      "hiddenLayer1 (Dense)         (None, 300)               235500    \n",
      "_________________________________________________________________\n",
      "hiddenLayer2 (Dense)         (None, 100)               30100     \n",
      "_________________________________________________________________\n",
      "outputLayer (Dense)          (None, 10)                1010      \n",
      "=================================================================\n",
      "Total params: 266,610\n",
      "Trainable params: 266,610\n",
      "Non-trainable params: 0\n",
      "_________________________________________________________________\n"
     ]
    }
   ],
   "source": [
    "pretrained_model.summary()"
   ]
  },
  {
   "cell_type": "code",
   "execution_count": 21,
   "id": "6c6a9d17-df76-45b9-8be5-3b5ff13d23fe",
   "metadata": {},
   "outputs": [
    {
     "name": "stdout",
     "output_type": "stream",
     "text": [
      "inputLayer: False\n",
      "hiddenLayer1: False\n",
      "hiddenLayer2: False\n",
      "outputLayer: True\n"
     ]
    }
   ],
   "source": [
    "for layer in pretrained_model.layers:\n",
    "    print(f\"{layer.name}: {layer.trainable}\")"
   ]
  },
  {
   "cell_type": "code",
   "execution_count": 18,
   "id": "e49ad267-9f99-427f-9d76-669c04328588",
   "metadata": {},
   "outputs": [],
   "source": [
    "## We will make non trainable all layer expect output layer"
   ]
  },
  {
   "cell_type": "code",
   "execution_count": 20,
   "id": "2b160d2f-9b61-4b2c-b05e-f180c5aac4c0",
   "metadata": {},
   "outputs": [
    {
     "name": "stdout",
     "output_type": "stream",
     "text": [
      "inputLayer: False\n",
      "hiddenLayer1: False\n",
      "hiddenLayer2: False\n"
     ]
    }
   ],
   "source": [
    "for layer in pretrained_model.layers[:-1]:\n",
    "    layer.trainable=False\n",
    "    print(f\"{layer.name}: {layer.trainable}\")"
   ]
  },
  {
   "cell_type": "code",
   "execution_count": 22,
   "id": "543125b5-9bc1-428d-829e-3b44c8d51f32",
   "metadata": {},
   "outputs": [],
   "source": [
    "lower_pretrained_layer=pretrained_model.layers[:-1]"
   ]
  },
  {
   "cell_type": "code",
   "execution_count": 23,
   "id": "de111e3f-8293-460b-9651-826aadb8970e",
   "metadata": {},
   "outputs": [
    {
     "data": {
      "text/plain": [
       "[<tensorflow.python.keras.layers.core.Flatten at 0x1fee69ebc50>,\n",
       " <tensorflow.python.keras.layers.core.Dense at 0x1fee76e0b00>,\n",
       " <tensorflow.python.keras.layers.core.Dense at 0x1fee7099358>]"
      ]
     },
     "execution_count": 23,
     "metadata": {},
     "output_type": "execute_result"
    }
   ],
   "source": [
    "lower_pretrained_layer"
   ]
  },
  {
   "cell_type": "code",
   "execution_count": 24,
   "id": "1c167ea5-78b4-47f2-92b0-f88548818f04",
   "metadata": {},
   "outputs": [],
   "source": [
    "new_model=tf.keras.models.Sequential(\n",
    "    lower_pretrained_layer)\n",
    "    "
   ]
  },
  {
   "cell_type": "code",
   "execution_count": 25,
   "id": "47f67d40-a0df-4d27-bd3d-341d7fe91b30",
   "metadata": {},
   "outputs": [],
   "source": [
    "new_model.add(tf.keras.layers.Dense(2,activation=\"softmax\"))"
   ]
  },
  {
   "cell_type": "code",
   "execution_count": 26,
   "id": "c96d905b-c0cf-4392-8b92-2b8b1e90cecc",
   "metadata": {},
   "outputs": [
    {
     "name": "stdout",
     "output_type": "stream",
     "text": [
      "Model: \"sequential\"\n",
      "_________________________________________________________________\n",
      "Layer (type)                 Output Shape              Param #   \n",
      "=================================================================\n",
      "inputLayer (Flatten)         (None, 784)               0         \n",
      "_________________________________________________________________\n",
      "hiddenLayer1 (Dense)         (None, 300)               235500    \n",
      "_________________________________________________________________\n",
      "hiddenLayer2 (Dense)         (None, 100)               30100     \n",
      "_________________________________________________________________\n",
      "dense (Dense)                (None, 2)                 202       \n",
      "=================================================================\n",
      "Total params: 265,802\n",
      "Trainable params: 202\n",
      "Non-trainable params: 265,600\n",
      "_________________________________________________________________\n"
     ]
    }
   ],
   "source": [
    "new_model.summary()"
   ]
  },
  {
   "cell_type": "code",
   "execution_count": 28,
   "id": "ae9a57c3-2248-4132-ac18-42dbe1b89a10",
   "metadata": {},
   "outputs": [
    {
     "data": {
      "text/plain": [
       "array([0, 1, 2, 3, 4, 5, 6, 7, 8, 9], dtype=uint8)"
      ]
     },
     "execution_count": 28,
     "metadata": {},
     "output_type": "execute_result"
    }
   ],
   "source": [
    "np.unique(y_train)"
   ]
  },
  {
   "cell_type": "code",
   "execution_count": null,
   "id": "ef6902c6-d01d-4b4c-977d-23037ce7f1ae",
   "metadata": {},
   "outputs": [],
   "source": [
    "def get_even_odd_label()"
   ]
  },
  {
   "cell_type": "code",
   "execution_count": 43,
   "id": "c4b673f3-279f-4264-9711-cb628e1f24bd",
   "metadata": {},
   "outputs": [],
   "source": [
    "def update_even_odd(labels):\n",
    "    for idx,label in enumerate(labels):\n",
    "        labels[idx]=label%2\n",
    "    return labels\n"
   ]
  },
  {
   "cell_type": "code",
   "execution_count": 44,
   "id": "98f0c9d9-445f-4d8e-89b7-b7adcb74cd68",
   "metadata": {},
   "outputs": [],
   "source": [
    "y_train_evenodd,y_val_evenodd,y_test_evenodd=update_even_odd([y_train,y_valid,y_test])"
   ]
  },
  {
   "cell_type": "code",
   "execution_count": 48,
   "id": "d6838fc2-a5a9-4a61-a5ef-eec6003f66b6",
   "metadata": {},
   "outputs": [],
   "source": [
    "EPOCHS=10"
   ]
  },
  {
   "cell_type": "code",
   "execution_count": 50,
   "id": "1cf206ae-2f09-42e2-87da-8e9c55ba0dcc",
   "metadata": {},
   "outputs": [],
   "source": [
    "new_model.compile(loss=\"sparse_categorical_crossentropy\",\n",
    "                  optimizer=tf.keras.optimizers.SGD(lr=1e-3),\n",
    "                  metrics=[\"accuracy\"]\n",
    "                 )"
   ]
  },
  {
   "cell_type": "code",
   "execution_count": 51,
   "id": "25c86670-b506-4bd8-9347-b41e27c4a239",
   "metadata": {},
   "outputs": [
    {
     "name": "stdout",
     "output_type": "stream",
     "text": [
      "Epoch 1/10\n",
      "1719/1719 - 1s - loss: 0.3415 - accuracy: 0.8593 - val_loss: 0.2226 - val_accuracy: 0.9192\n",
      "Epoch 2/10\n",
      "1719/1719 - 1s - loss: 0.2009 - accuracy: 0.9308 - val_loss: 0.1818 - val_accuracy: 0.9368\n",
      "Epoch 3/10\n",
      "1719/1719 - 1s - loss: 0.1731 - accuracy: 0.9399 - val_loss: 0.1635 - val_accuracy: 0.9422\n",
      "Epoch 4/10\n",
      "1719/1719 - 1s - loss: 0.1585 - accuracy: 0.9452 - val_loss: 0.1519 - val_accuracy: 0.9468\n",
      "Epoch 5/10\n",
      "1719/1719 - 1s - loss: 0.1487 - accuracy: 0.9486 - val_loss: 0.1447 - val_accuracy: 0.9490\n",
      "Epoch 6/10\n",
      "1719/1719 - 1s - loss: 0.1415 - accuracy: 0.9511 - val_loss: 0.1390 - val_accuracy: 0.9518\n",
      "Epoch 7/10\n",
      "1719/1719 - 1s - loss: 0.1358 - accuracy: 0.9528 - val_loss: 0.1338 - val_accuracy: 0.9538\n",
      "Epoch 8/10\n",
      "1719/1719 - 1s - loss: 0.1312 - accuracy: 0.9542 - val_loss: 0.1303 - val_accuracy: 0.9556\n",
      "Epoch 9/10\n",
      "1719/1719 - 1s - loss: 0.1273 - accuracy: 0.9554 - val_loss: 0.1271 - val_accuracy: 0.9574\n",
      "Epoch 10/10\n",
      "1719/1719 - 1s - loss: 0.1240 - accuracy: 0.9565 - val_loss: 0.1241 - val_accuracy: 0.9590\n"
     ]
    }
   ],
   "source": [
    "new_history=new_model.fit(X_train,y_train_evenodd,epochs=EPOCHS,\n",
    "                          validation_data=(X_valid,y_val_evenodd),\n",
    "                          verbose=2)"
   ]
  },
  {
   "cell_type": "code",
   "execution_count": 55,
   "id": "13d273d6-6e6f-4f42-b141-dbf7310820f3",
   "metadata": {
    "tags": [
     "Plotting",
     "Validation",
     "and",
     "training",
     "loss",
     "accuracy"
    ]
   },
   "outputs": [
    {
     "data": {
      "text/plain": [
       "<Figure size 640x480 with 0 Axes>"
      ]
     },
     "metadata": {},
     "output_type": "display_data"
    },
    {
     "data": {
      "image/png": "[encoded data removed]",
      "text/plain": [
       "<Figure size 640x480 with 1 Axes>"
      ]
     },
     "metadata": {},
     "output_type": "display_data"
    }
   ],
   "source": [
    "plt.clf()\n",
    "pd.DataFrame(new_history.history).plot()\n",
    "plt.show()"
   ]
  },
  {
   "cell_type": "markdown",
   "id": "ec57d2a2-c6ea-4bed-9820-dad906c6c960",
   "metadata": {},
   "source": [
    "## Prediction using trained model"
   ]
  },
  {
   "cell_type": "code",
   "execution_count": 60,
   "id": "0482f5d5-eefe-4694-85b4-ed00402dc8fa",
   "metadata": {},
   "outputs": [
    {
     "data": {
      "text/plain": [
       "array([1, 1, 0, 0, 1, 0, 1, 0, 1, 0, 0, 1, 1, 1, 1, 0, 0, 1, 0, 0],\n",
       "      dtype=int64)"
      ]
     },
     "execution_count": 60,
     "metadata": {},
     "output_type": "execute_result"
    }
   ],
   "source": [
    "np.argmax(new_model.predict(X_train[:20]),axis=-1)"
   ]
  },
  {
   "cell_type": "markdown",
   "id": "a6b9de5e-9fa6-40b2-a971-7d453574f53a",
   "metadata": {
    "tags": []
   },
   "source": [
    "## Batch Normalization"
   ]
  },
  {
   "cell_type": "markdown",
   "id": "32d95ee6-43ad-4b8d-8b31-3b8cab42a847",
   "metadata": {
    "tags": []
   },
   "source": [
    "> Fast training and getting good accuracy\n",
    "\n",
    ". Activation function"
   ]
  },
  {
   "cell_type": "code",
   "execution_count": null,
   "id": "122fc12b-d4ed-4ed6-a482-9315fcc93f40",
   "metadata": {},
   "outputs": [],
   "source": []
  },
  {
   "cell_type": "code",
   "execution_count": null,
   "id": "4eb1f288-892e-40bf-bf6d-f83fbee84d84",
   "metadata": {},
   "outputs": [],
   "source": []
  }
 ],
 "metadata": {
  "kernelspec": {
   "display_name": "Python 3",
   "language": "python",
   "name": "python3"
  },
  "language_info": {
   "codemirror_mode": {
    "name": "ipython",
    "version": 3
   },
   "file_extension": ".py",
   "mimetype": "text/x-python",
   "name": "python",
   "nbconvert_exporter": "python",
   "pygments_lexer": "ipython3",
   "version": "3.7.0"
  }
 },
 "nbformat": 4,
 "nbformat_minor": 5
}
