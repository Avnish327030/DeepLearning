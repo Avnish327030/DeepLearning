{
 "cells": [
  {
   "cell_type": "markdown",
   "metadata": {
    "id": "ImbqcbLeT1Ag"
   },
   "source": [
    "\n",
    "## Open Source Deep Learning Frameworks\n",
    "\n",
    "Deep learnings is made accessible by a number of open source projects. Some of the most popular technologies include, but are not limited to, Deeplearning4j (DL4j), Theano, Torch, TensorFlow, and Caffe. The deciding factors on which one to use are the tech stack they target, and if they are low-level, academic, or application focused. Here’s an overview of each:\n",
    "\n",
    "DL4J:\n",
    "\n",
    "   * JVM-based\n",
    "   * Distrubted\n",
    "   * Integrates with Hadoop and Spark\n",
    "   \n",
    "   \n",
    "Theano:\n",
    "\n",
    "   * Very popular in Academia\n",
    "   * Fairly low level\n",
    "   * Interfaced with via Python and Numpy\n",
    "\n",
    "\n",
    "Torch:\n",
    "\n",
    "   * Lua based\n",
    "   * In house versions used by Facebook and Twitter\n",
    "   * Contains pretrained models\n",
    "\n",
    "\n",
    "TensorFlow:\n",
    "\n",
    "   * Google written successor to Theano\n",
    "   * Interfaced with via Python and Numpy\n",
    "   * Highly parallel\n",
    "   * Can be somewhat slow for certain problem sets\n",
    "\n",
    "\n",
    "\n",
    "Caffe:\n",
    "\n",
    "   * Not general purpose. Focuses on machine-vision problems\n",
    "   * Implemented in C++ and is very fast\n",
    "   * Not easily extensible\n",
    "   * Has a Python interface"
   ]
  },
  {
   "cell_type": "markdown",
   "metadata": {
    "id": "pnsmiyxVT1Ah"
   },
   "source": [
    "## Brief installation of Tensorflow"
   ]
  },
  {
   "cell_type": "markdown",
   "metadata": {
    "id": "Ud4hjZh4T1Ai"
   },
   "source": [
    ">TensorFlow is tested and supported on the following 64-bit systems:\n",
    "\n",
    ">1.Ubuntu 16.04 or later\n",
    "\n",
    ">2.Windows 7 or later\n",
    "\n",
    ">3.macOS 10.12.6 (Sierra) or later (no GPU support)\n",
    "\n",
    ">4.Raspbian 9.0 or later"
   ]
  },
  {
   "cell_type": "markdown",
   "metadata": {
    "id": "AkdmzqrYT1Aj"
   },
   "source": [
    "> **pip install tensorflow==2.0.0**\n",
    "\n",
    "> To run from Anaconda Prompt\n",
    "\n",
    "> **!pip install tensorflow==2.0.0**\n",
    "\n",
    "> To run from Jupyter Notebook"
   ]
  },
  {
   "cell_type": "markdown",
   "metadata": {
    "id": "ytZ87YafT1Ak"
   },
   "source": [
    "`Both Tensorflow 2.0 and Keras have been released for four years (Keras was released in March 2015, and Tensorflow was released in November of the same year). The rapid development of deep learning in the past days, we also know some problems of Tensorflow1.x and Keras:`\n",
    "\n",
    "* Using Tensorflow means programming static graphs, which is difficult and inconvenient for programs that are familiar with imperative programming\n",
    "\n",
    "* Tensorflow api is powerful and flexible, but it is more complex, confusing and difficult to use.\n",
    "\n",
    "* Keras api is productive and easy to use, but lacks flexibility for research\n"
   ]
  },
  {
   "cell_type": "markdown",
   "metadata": {
    "id": "tlJYerU_T1Al"
   },
   "source": [
    "#### Official docs link for [DETAILED INSTALLATION STEPS](https://www.tensorflow.org/install) for Tensorflow 2"
   ]
  },
  {
   "cell_type": "code",
   "execution_count": 1,
   "metadata": {
    "id": "deqLTYe4T1Am"
   },
   "outputs": [],
   "source": [
    "# Verify installation - \n",
    "import tensorflow as tf"
   ]
  },
  {
   "cell_type": "code",
   "execution_count": 2,
   "metadata": {
    "colab": {
     "base_uri": "https://localhost:8080/"
    },
    "id": "ojSPnupYT1Aw",
    "outputId": "81d59c2e-0e97-4621-a561-da0ae0943c36"
   },
   "outputs": [
    {
     "name": "stdout",
     "output_type": "stream",
     "text": [
      "Tensorflow Version: 2.3.0\n",
      "Keras Version: 2.4.0\n"
     ]
    }
   ],
   "source": [
    "print(f\"Tensorflow Version: {tf.__version__}\")\n",
    "print(f\"Keras Version: {tf.keras.__version__}\")"
   ]
  },
  {
   "cell_type": "markdown",
   "metadata": {
    "id": "CTaL2-LJT1A6"
   },
   "source": [
    "`Tensorflow2.0 is a combination design of Tensorflow1.x and Keras. Considering user feedback and framework development over the past four years, it largely solves the above problems and will become the future machine learning platform.`\n",
    "\n",
    "> Tensorflow 2.0 is built on the following core ideas:\n",
    "\n",
    "\n",
    "* The coding is more pythonic, so that users can get the results immediately like they are programming in numpy\n",
    "* Retaining the characteristics of static graphs (for performance, distributed, and production deployment), this makes TensorFlow fast, scalable, and ready for production.\n",
    "* Using Keras as a high-level API for deep learning, making Tensorflow easy to use and efficient\n",
    "* Make the entire framework both high-level features (easy to use, efficient, and not flexible) and low-level features (powerful and scalable, not easy to use, but very flexible)"
   ]
  },
  {
   "cell_type": "markdown",
   "metadata": {
    "id": "CCC4y-g9T1A7"
   },
   "source": [
    ">Eager execution is by default in TensorFlow 2.0 and, it needs no special setup.\n",
    ">The following below code can be used to find out whether a CPU or GPU is in use"
   ]
  },
  {
   "cell_type": "markdown",
   "metadata": {
    "id": "NbuiMpcxT1A8"
   },
   "source": [
    "### GPU/CPU Check"
   ]
  },
  {
   "cell_type": "code",
   "execution_count": 3,
   "metadata": {
    "colab": {
     "base_uri": "https://localhost:8080/"
    },
    "id": "kfdsjkrlT1A-",
    "outputId": "5778dd53-5315-435b-a14b-31c341d204ae",
    "scrolled": true
   },
   "outputs": [
    {
     "data": {
      "text/plain": [
       "[]"
      ]
     },
     "execution_count": 3,
     "metadata": {},
     "output_type": "execute_result"
    }
   ],
   "source": [
    "tf.config.list_physical_devices('GPU')"
   ]
  },
  {
   "cell_type": "code",
   "execution_count": 4,
   "metadata": {
    "colab": {
     "base_uri": "https://localhost:8080/"
    },
    "id": "BrJOgcJsT1BF",
    "outputId": "99d24163-28e8-4d6d-dd16-424aef2ce994"
   },
   "outputs": [
    {
     "data": {
      "text/plain": [
       "[PhysicalDevice(name='/physical_device:CPU:0', device_type='CPU')]"
      ]
     },
     "execution_count": 4,
     "metadata": {},
     "output_type": "execute_result"
    }
   ],
   "source": [
    "tf.config.list_physical_devices('CPU')"
   ]
  },
  {
   "cell_type": "code",
   "execution_count": 5,
   "metadata": {
    "colab": {
     "base_uri": "https://localhost:8080/"
    },
    "id": "oWgQL00sT1BL",
    "outputId": "20b045a3-85ee-4fc8-ea49-8284e17c0689"
   },
   "outputs": [
    {
     "name": "stdout",
     "output_type": "stream",
     "text": [
      "GPU not available\n",
      "CPU is available\n",
      "details\n",
      " [PhysicalDevice(name='/physical_device:CPU:0', device_type='CPU')]\n"
     ]
    }
   ],
   "source": [
    "CheckList = [\"GPU\", \"CPU\"]\n",
    "for device in CheckList:\n",
    "    out_ = tf.config.list_physical_devices(device)    \n",
    "    if len(out_) > 0:\n",
    "        print(f\"{device} is available\")        \n",
    "        print(\"details\\n\",out_)\n",
    "    else:\n",
    "        print(f\"{device} not available\")"
   ]
  },
  {
   "cell_type": "markdown",
   "metadata": {
    "id": "WLXo-zKVT1BP"
   },
   "source": [
    "## A simple classifier using Keras's Sequential API"
   ]
  },
  {
   "cell_type": "code",
   "execution_count": 6,
   "metadata": {
    "id": "fjDK1fu5T1BR"
   },
   "outputs": [],
   "source": [
    "import numpy as np\n",
    "import matplotlib.pyplot as plt\n",
    "import pandas as pd\n",
    "import os\n",
    "import tensorflow as tf\n",
    "import seaborn as sns"
   ]
  },
  {
   "cell_type": "markdown",
   "metadata": {
    "id": "Qlc3DlXAT1BW"
   },
   "source": [
    "### Working on mnist dataset - \n",
    "\n",
    "* This dataset contains handwritten digits. \n",
    "* It has 10 classes i.e. 0 to 9\n",
    "* Each data point is 2D array of 28x28 size.\n",
    "* Also known as hello world dataset for ANN\n",
    "\n",
    "[image source](https://en.wikipedia.org/wiki/MNIST_database#/media/File:MnistExamples.png)\n",
    "\n",
    "![](https://upload.wikimedia.org/wikipedia/commons/2/27/MnistExamples.png)"
   ]
  },
  {
   "cell_type": "code",
   "execution_count": 7,
   "metadata": {
    "colab": {
     "base_uri": "https://localhost:8080/"
    },
    "id": "oUX64PRkT1BW",
    "outputId": "33541069-32c4-4bef-d14d-b2f6dba06a9f"
   },
   "outputs": [],
   "source": [
    "# Keras has already contains mnist dataset \n",
    "# Loading mnist data using Keras\n",
    "\n",
    "mnist = tf.keras.datasets.mnist\n",
    "(X_train_full, y_train_full), (X_test, y_test) = mnist.load_data()"
   ]
  },
  {
   "cell_type": "code",
   "execution_count": 8,
   "metadata": {
    "colab": {
     "base_uri": "https://localhost:8080/"
    },
    "id": "UCb1hhLiT1Bc",
    "outputId": "b3e94e3f-d4d0-4958-edb9-e35f9f3f1414"
   },
   "outputs": [
    {
     "name": "stdout",
     "output_type": "stream",
     "text": [
      "data type of X_train_full: uint8,\n",
      "shape of X_train_full: (60000, 28, 28)\n"
     ]
    }
   ],
   "source": [
    "print(f\"data type of X_train_full: {X_train_full.dtype},\\nshape of X_train_full: {X_train_full.shape}\")"
   ]
  },
  {
   "cell_type": "code",
   "execution_count": 9,
   "metadata": {
    "id": "ZTO5K8x7T1Bk"
   },
   "outputs": [],
   "source": [
    "# create a validation data set from the full training data \n",
    "# Scale the data between 0 to 1 by dividing it by 255. as its an unsigned data between 0-255 range\n",
    "X_valid, X_train = X_train_full[:5000] / 255., X_train_full[5000:] / 255.\n",
    "y_valid, y_train = y_train_full[:5000], y_train_full[5000:]\n",
    "\n",
    "# scale the test set as well\n",
    "X_test = X_test / 255.\n",
    "\n"
   ]
  },
  {
   "cell_type": "code",
   "execution_count": 10,
   "metadata": {
    "colab": {
     "base_uri": "https://localhost:8080/",
     "height": 248
    },
    "id": "CavNIdoaT1Bp",
    "outputId": "a14e2a29-6660-4c18-830d-d7a9e4571afb"
   },
   "outputs": [
    {
     "data": {
      "image/png": "[encoded data removed]",
      "text/plain": [
       "<Figure size 640x480 with 1 Axes>"
      ]
     },
     "metadata": {},
     "output_type": "display_data"
    }
   ],
   "source": [
    "# lets view the first data point of X_train\n",
    "plt.imshow(X_train[0], cmap=\"binary\")\n",
    "plt.axis('off')\n",
    "plt.show()\n"
   ]
  },
  {
   "cell_type": "code",
   "execution_count": 11,
   "metadata": {
    "colab": {
     "base_uri": "https://localhost:8080/",
     "height": 880
    },
    "id": "NbtIMpuZT1Bu",
    "outputId": "b2bc7a8e-30a2-4143-98db-e6de8af6e168"
   },
   "outputs": [
    {
     "data": {
      "image/png": "[encoded data removed]",
      "text/plain": [
       "<Figure size 1500x1500 with 2 Axes>"
      ]
     },
     "metadata": {},
     "output_type": "display_data"
    }
   ],
   "source": [
    "plt.figure(figsize=(15,15))\n",
    "sns.heatmap(X_train[0], annot=True, cmap=\"binary\")\n",
    "plt.show()"
   ]
  },
  {
   "cell_type": "code",
   "execution_count": 12,
   "metadata": {
    "colab": {
     "base_uri": "https://localhost:8080/"
    },
    "id": "DTUr2xheT1B0",
    "outputId": "3f53564d-1f0a-4c3a-9db1-ba8393684d7e"
   },
   "outputs": [
    {
     "data": {
      "text/plain": [
       "7"
      ]
     },
     "execution_count": 12,
     "metadata": {},
     "output_type": "execute_result"
    }
   ],
   "source": [
    "# actual value of y_train\n",
    "y_train[0]"
   ]
  },
  {
   "cell_type": "code",
   "execution_count": 13,
   "metadata": {
    "id": "k2BX3qEiT1B5"
   },
   "outputs": [],
   "source": [
    "LAYERS = [tf.keras.layers.Flatten(input_shape=[28, 28], name=\"inputLayer\"),\n",
    "          tf.keras.layers.Dense(300, activation=\"relu\", name=\"hiddenLayer1\"),\n",
    "          tf.keras.layers.Dense(100, activation=\"relu\", name=\"hiddenLayer2\"),\n",
    "          tf.keras.layers.Dense(10, activation=\"softmax\", name=\"outputLayer\")]\n",
    "\n",
    "model_clf = tf.keras.models.Sequential(LAYERS)"
   ]
  },
  {
   "cell_type": "markdown",
   "metadata": {
    "id": "VQPHM-DwT1B9"
   },
   "source": [
    "#### Altenative 1\n",
    "\n",
    "```python\n",
    "model = tf.keras.models.Sequential()\n",
    "model.add(tf.keras.layers.Flatten(input_shape=[28, 28]))\n",
    "model.add(tf.keras.layers.Dense(300, activation=\"relu\"))\n",
    "model.add(tf.keras.layers.Dense(100, activation=\"relu\"))\n",
    "model.add(tf.keras.layers.Dense(10, activation=\"softmax\"))\n",
    "\n",
    "```"
   ]
  },
  {
   "cell_type": "markdown",
   "metadata": {
    "id": "3WlLdDzET1B-"
   },
   "source": [
    "#### Alternative 2\n",
    "\n",
    "```python\n",
    "model = tf.keras.models.Sequential([\n",
    "    tf.keras.layers.Flatten(input_shape=[28, 28]),\n",
    "    tf.keras.layers.Dense(300, activation=\"relu\"),\n",
    "    tf.keras.layers.Dense(100, activation=\"relu\"),\n",
    "    tf.keras.layers.Dense(10, activation=\"softmax\")\n",
    "])\n",
    "```"
   ]
  },
  {
   "cell_type": "markdown",
   "metadata": {
    "id": "VGe8cja-T1B-"
   },
   "source": [
    "### For custom weights initialiser or setting weights \n",
    "refer [here](https://keras.io/api/layers/base_layer/#setweights-method)"
   ]
  },
  {
   "cell_type": "code",
   "execution_count": 14,
   "metadata": {
    "colab": {
     "base_uri": "https://localhost:8080/"
    },
    "id": "sA9wBfw_T1B_",
    "outputId": "03e850fd-76d0-40c9-d898-bc736631dc74"
   },
   "outputs": [
    {
     "data": {
      "text/plain": [
       "[<tensorflow.python.keras.layers.core.Flatten at 0x2042aa6c630>,\n",
       " <tensorflow.python.keras.layers.core.Dense at 0x2042b0f79e8>,\n",
       " <tensorflow.python.keras.layers.core.Dense at 0x2042b0f7c50>,\n",
       " <tensorflow.python.keras.layers.core.Dense at 0x2042b0f7e80>]"
      ]
     },
     "execution_count": 14,
     "metadata": {},
     "output_type": "execute_result"
    }
   ],
   "source": [
    "model_clf.layers"
   ]
  },
  {
   "cell_type": "code",
   "execution_count": 15,
   "metadata": {
    "colab": {
     "base_uri": "https://localhost:8080/"
    },
    "id": "JluBwQFVT1CD",
    "outputId": "0bef0413-924f-4556-dc6f-3dcd48746291"
   },
   "outputs": [
    {
     "name": "stdout",
     "output_type": "stream",
     "text": [
      "Model: \"sequential\"\n",
      "_________________________________________________________________\n",
      "Layer (type)                 Output Shape              Param #   \n",
      "=================================================================\n",
      "inputLayer (Flatten)         (None, 784)               0         \n",
      "_________________________________________________________________\n",
      "hiddenLayer1 (Dense)         (None, 300)               235500    \n",
      "_________________________________________________________________\n",
      "hiddenLayer2 (Dense)         (None, 100)               30100     \n",
      "_________________________________________________________________\n",
      "outputLayer (Dense)          (None, 10)                1010      \n",
      "=================================================================\n",
      "Total params: 266,610\n",
      "Trainable params: 266,610\n",
      "Non-trainable params: 0\n",
      "_________________________________________________________________\n"
     ]
    }
   ],
   "source": [
    "model_clf.summary()"
   ]
  },
  {
   "cell_type": "code",
   "execution_count": 16,
   "metadata": {
    "colab": {
     "base_uri": "https://localhost:8080/"
    },
    "id": "lh2tYK0fT1CJ",
    "outputId": "8913c977-6db2-4486-ba8f-fb3b6ecfda0a"
   },
   "outputs": [
    {
     "data": {
      "text/plain": [
       "(235500, 30100, 1010)"
      ]
     },
     "execution_count": 16,
     "metadata": {},
     "output_type": "execute_result"
    }
   ],
   "source": [
    "# firsLayer * secondLayer + bias\n",
    "784*300 + 300, 300*100+100, 100*10+10"
   ]
  },
  {
   "cell_type": "code",
   "execution_count": 48,
   "metadata": {
    "colab": {
     "base_uri": "https://localhost:8080/"
    },
    "id": "y5xbBd9dT1CO",
    "outputId": "1a7c9cd6-1426-4c88-cb5a-d2fdf0d0f3c4"
   },
   "outputs": [
    {
     "data": {
      "text/plain": [
       "266610"
      ]
     },
     "execution_count": 48,
     "metadata": {},
     "output_type": "execute_result"
    }
   ],
   "source": [
    "# Total parameters to be trained -\n",
    "sum((235500, 30100, 1010))"
   ]
  },
  {
   "cell_type": "code",
   "execution_count": 49,
   "metadata": {
    "colab": {
     "base_uri": "https://localhost:8080/",
     "height": 35
    },
    "id": "sV2F7E6ET1CT",
    "outputId": "3d7de4f7-457c-40ce-ef3e-ccab52a9fb4e"
   },
   "outputs": [
    {
     "data": {
      "text/plain": [
       "'hiddenLayer1'"
      ]
     },
     "execution_count": 49,
     "metadata": {},
     "output_type": "execute_result"
    }
   ],
   "source": [
    "hidden1 = model_clf.layers[1]\n",
    "hidden1.name"
   ]
  },
  {
   "cell_type": "code",
   "execution_count": 50,
   "metadata": {
    "colab": {
     "base_uri": "https://localhost:8080/"
    },
    "id": "E44TYmE-T1Ca",
    "outputId": "62158297-5e6a-4bb5-87f4-c54049dc073c"
   },
   "outputs": [
    {
     "data": {
      "text/plain": [
       "True"
      ]
     },
     "execution_count": 50,
     "metadata": {},
     "output_type": "execute_result"
    }
   ],
   "source": [
    "model_clf.get_layer(hidden1.name) is hidden1"
   ]
  },
  {
   "cell_type": "code",
   "execution_count": 51,
   "metadata": {
    "id": "zIovwIogT1Cg"
   },
   "outputs": [],
   "source": [
    "# hidden1.set_weights(hidden1.get_weights()) # to set weights"
   ]
  },
  {
   "cell_type": "code",
   "execution_count": 52,
   "metadata": {
    "colab": {
     "base_uri": "https://localhost:8080/"
    },
    "id": "8ZTodjmCT1Ck",
    "outputId": "ef13db9d-4b8d-437f-931d-edc0419369be"
   },
   "outputs": [
    {
     "data": {
      "text/plain": [
       "list"
      ]
     },
     "execution_count": 52,
     "metadata": {},
     "output_type": "execute_result"
    }
   ],
   "source": [
    "type(hidden1.get_weights())"
   ]
  },
  {
   "cell_type": "code",
   "execution_count": 53,
   "metadata": {
    "colab": {
     "base_uri": "https://localhost:8080/"
    },
    "id": "FaU9U8QfT1Cp",
    "outputId": "5c417cb8-f2cd-444a-b0e3-2f83926cfa27"
   },
   "outputs": [
    {
     "data": {
      "text/plain": [
       "[array([[-0.02859345, -0.02419803, -0.07341138, ..., -0.06731131,\n",
       "         -0.06924409, -0.03945801],\n",
       "        [ 0.03781776,  0.05720621,  0.04316635, ..., -0.01959795,\n",
       "          0.01268441,  0.00485169],\n",
       "        [-0.07253984, -0.05417481, -0.07158209, ...,  0.01650534,\n",
       "         -0.03248406, -0.01469101],\n",
       "        ...,\n",
       "        [-0.04450179,  0.03804401,  0.03581087, ...,  0.02367899,\n",
       "          0.01389468, -0.00450911],\n",
       "        [-0.02703733,  0.06864731,  0.06633124, ...,  0.02908481,\n",
       "         -0.02196674, -0.00782386],\n",
       "        [-0.02504415, -0.01085006, -0.00087224, ..., -0.02613609,\n",
       "          0.06248978, -0.05132727]], dtype=float32),\n",
       " array([0., 0., 0., 0., 0., 0., 0., 0., 0., 0., 0., 0., 0., 0., 0., 0., 0.,\n",
       "        0., 0., 0., 0., 0., 0., 0., 0., 0., 0., 0., 0., 0., 0., 0., 0., 0.,\n",
       "        0., 0., 0., 0., 0., 0., 0., 0., 0., 0., 0., 0., 0., 0., 0., 0., 0.,\n",
       "        0., 0., 0., 0., 0., 0., 0., 0., 0., 0., 0., 0., 0., 0., 0., 0., 0.,\n",
       "        0., 0., 0., 0., 0., 0., 0., 0., 0., 0., 0., 0., 0., 0., 0., 0., 0.,\n",
       "        0., 0., 0., 0., 0., 0., 0., 0., 0., 0., 0., 0., 0., 0., 0., 0., 0.,\n",
       "        0., 0., 0., 0., 0., 0., 0., 0., 0., 0., 0., 0., 0., 0., 0., 0., 0.,\n",
       "        0., 0., 0., 0., 0., 0., 0., 0., 0., 0., 0., 0., 0., 0., 0., 0., 0.,\n",
       "        0., 0., 0., 0., 0., 0., 0., 0., 0., 0., 0., 0., 0., 0., 0., 0., 0.,\n",
       "        0., 0., 0., 0., 0., 0., 0., 0., 0., 0., 0., 0., 0., 0., 0., 0., 0.,\n",
       "        0., 0., 0., 0., 0., 0., 0., 0., 0., 0., 0., 0., 0., 0., 0., 0., 0.,\n",
       "        0., 0., 0., 0., 0., 0., 0., 0., 0., 0., 0., 0., 0., 0., 0., 0., 0.,\n",
       "        0., 0., 0., 0., 0., 0., 0., 0., 0., 0., 0., 0., 0., 0., 0., 0., 0.,\n",
       "        0., 0., 0., 0., 0., 0., 0., 0., 0., 0., 0., 0., 0., 0., 0., 0., 0.,\n",
       "        0., 0., 0., 0., 0., 0., 0., 0., 0., 0., 0., 0., 0., 0., 0., 0., 0.,\n",
       "        0., 0., 0., 0., 0., 0., 0., 0., 0., 0., 0., 0., 0., 0., 0., 0., 0.,\n",
       "        0., 0., 0., 0., 0., 0., 0., 0., 0., 0., 0., 0., 0., 0., 0., 0., 0.,\n",
       "        0., 0., 0., 0., 0., 0., 0., 0., 0., 0., 0.], dtype=float32)]"
      ]
     },
     "execution_count": 53,
     "metadata": {},
     "output_type": "execute_result"
    }
   ],
   "source": [
    "hidden1.get_weights()"
   ]
  },
  {
   "cell_type": "code",
   "execution_count": 54,
   "metadata": {
    "id": "AvWqAyD3T1Cx"
   },
   "outputs": [],
   "source": [
    "weights, biases = hidden1.get_weights()"
   ]
  },
  {
   "cell_type": "code",
   "execution_count": 55,
   "metadata": {
    "colab": {
     "base_uri": "https://localhost:8080/"
    },
    "id": "jsDl3Cs2T1C3",
    "outputId": "4f25e921-4f42-4ed5-e42b-2f480ac4f5f6"
   },
   "outputs": [
    {
     "name": "stdout",
     "output_type": "stream",
     "text": [
      "shape\n",
      " (784, 300) \n",
      "\n"
     ]
    },
    {
     "data": {
      "text/plain": [
       "array([[-0.02859345, -0.02419803, -0.07341138, ..., -0.06731131,\n",
       "        -0.06924409, -0.03945801],\n",
       "       [ 0.03781776,  0.05720621,  0.04316635, ..., -0.01959795,\n",
       "         0.01268441,  0.00485169],\n",
       "       [-0.07253984, -0.05417481, -0.07158209, ...,  0.01650534,\n",
       "        -0.03248406, -0.01469101],\n",
       "       ...,\n",
       "       [-0.04450179,  0.03804401,  0.03581087, ...,  0.02367899,\n",
       "         0.01389468, -0.00450911],\n",
       "       [-0.02703733,  0.06864731,  0.06633124, ...,  0.02908481,\n",
       "        -0.02196674, -0.00782386],\n",
       "       [-0.02504415, -0.01085006, -0.00087224, ..., -0.02613609,\n",
       "         0.06248978, -0.05132727]], dtype=float32)"
      ]
     },
     "execution_count": 55,
     "metadata": {},
     "output_type": "execute_result"
    }
   ],
   "source": [
    "print(\"shape\\n\",weights.shape, \"\\n\")\n",
    "\n",
    "weights\n"
   ]
  },
  {
   "cell_type": "code",
   "execution_count": 56,
   "metadata": {
    "colab": {
     "base_uri": "https://localhost:8080/"
    },
    "id": "NFtn3qxuT1C7",
    "outputId": "6df60a3a-f0a4-4547-eab7-49c163937033"
   },
   "outputs": [
    {
     "name": "stdout",
     "output_type": "stream",
     "text": [
      "shape\n",
      " (300,)\n"
     ]
    },
    {
     "data": {
      "text/plain": [
       "array([0., 0., 0., 0., 0., 0., 0., 0., 0., 0., 0., 0., 0., 0., 0., 0., 0.,\n",
       "       0., 0., 0., 0., 0., 0., 0., 0., 0., 0., 0., 0., 0., 0., 0., 0., 0.,\n",
       "       0., 0., 0., 0., 0., 0., 0., 0., 0., 0., 0., 0., 0., 0., 0., 0., 0.,\n",
       "       0., 0., 0., 0., 0., 0., 0., 0., 0., 0., 0., 0., 0., 0., 0., 0., 0.,\n",
       "       0., 0., 0., 0., 0., 0., 0., 0., 0., 0., 0., 0., 0., 0., 0., 0., 0.,\n",
       "       0., 0., 0., 0., 0., 0., 0., 0., 0., 0., 0., 0., 0., 0., 0., 0., 0.,\n",
       "       0., 0., 0., 0., 0., 0., 0., 0., 0., 0., 0., 0., 0., 0., 0., 0., 0.,\n",
       "       0., 0., 0., 0., 0., 0., 0., 0., 0., 0., 0., 0., 0., 0., 0., 0., 0.,\n",
       "       0., 0., 0., 0., 0., 0., 0., 0., 0., 0., 0., 0., 0., 0., 0., 0., 0.,\n",
       "       0., 0., 0., 0., 0., 0., 0., 0., 0., 0., 0., 0., 0., 0., 0., 0., 0.,\n",
       "       0., 0., 0., 0., 0., 0., 0., 0., 0., 0., 0., 0., 0., 0., 0., 0., 0.,\n",
       "       0., 0., 0., 0., 0., 0., 0., 0., 0., 0., 0., 0., 0., 0., 0., 0., 0.,\n",
       "       0., 0., 0., 0., 0., 0., 0., 0., 0., 0., 0., 0., 0., 0., 0., 0., 0.,\n",
       "       0., 0., 0., 0., 0., 0., 0., 0., 0., 0., 0., 0., 0., 0., 0., 0., 0.,\n",
       "       0., 0., 0., 0., 0., 0., 0., 0., 0., 0., 0., 0., 0., 0., 0., 0., 0.,\n",
       "       0., 0., 0., 0., 0., 0., 0., 0., 0., 0., 0., 0., 0., 0., 0., 0., 0.,\n",
       "       0., 0., 0., 0., 0., 0., 0., 0., 0., 0., 0., 0., 0., 0., 0., 0., 0.,\n",
       "       0., 0., 0., 0., 0., 0., 0., 0., 0., 0., 0.], dtype=float32)"
      ]
     },
     "execution_count": 56,
     "metadata": {},
     "output_type": "execute_result"
    }
   ],
   "source": [
    "print(\"shape\\n\", biases.shape)\n",
    "\n",
    "biases"
   ]
  },
  {
   "cell_type": "code",
   "execution_count": 57,
   "metadata": {
    "id": "B0LyAwftT1C_"
   },
   "outputs": [],
   "source": [
    "LOSS_FUNCTION = \"sparse_categorical_crossentropy\" # use => tf.losses.sparse_categorical_crossentropy\n",
    "OPTIMIZER = \"SGD\" # or use with custom learning rate=> tf.keras.optimizers.SGD(0.02)\n",
    "METRICS = [\"accuracy\"]\n",
    "\n",
    "model_clf.compile(loss=LOSS_FUNCTION,\n",
    "              optimizer=OPTIMIZER,\n",
    "              metrics=METRICS)\n",
    "\n"
   ]
  },
  {
   "cell_type": "markdown",
   "metadata": {
    "id": "-U2yx-_hT1DF"
   },
   "source": [
    "#### Alternatively \n",
    "```python\n",
    "model_clf.compile(loss=tf.losses.sparse_categorical_crossentropy,\n",
    "               optimizer=tf.keras.optimizers.SGD(0.02),\n",
    "               metrics=[\"accuracy\"])\n",
    "```"
   ]
  },
  {
   "cell_type": "code",
   "execution_count": 58,
   "metadata": {
    "id": "wCKQ0L6QT1DG"
   },
   "outputs": [],
   "source": [
    "# 1719*30, X_train.shape, 55000/32, batch size=32 by default"
   ]
  },
  {
   "cell_type": "code",
   "execution_count": 59,
   "metadata": {
    "colab": {
     "base_uri": "https://localhost:8080/"
    },
    "id": "EGIFIh7UT1DK",
    "outputId": "8d7e8cd1-f21c-4ab5-ac25-84cdfdedbe51"
   },
   "outputs": [
    {
     "name": "stdout",
     "output_type": "stream",
     "text": [
      "Epoch 1/30\n",
      "   1/1719 [..............................] - ETA: 0s - loss: 2.3491 - accuracy: 0.0938WARNING:tensorflow:From C:\\Users\\anish\\anaconda3\\envs\\deep_learning\\lib\\site-packages\\tensorflow\\python\\ops\\summary_ops_v2.py:1277: stop (from tensorflow.python.eager.profiler) is deprecated and will be removed after 2020-07-01.\n",
      "Instructions for updating:\n",
      "use `tf.profiler.experimental.stop` instead.\n",
      "WARNING:tensorflow:Callbacks method `on_train_batch_end` is slow compared to the batch time (batch time: 0.0020s vs `on_train_batch_end` time: 0.0200s). Check your callbacks.\n",
      "1719/1719 [==============================] - 2s 1ms/step - loss: 0.5957 - accuracy: 0.8434 - val_loss: 0.3091 - val_accuracy: 0.9176\n",
      "Epoch 2/30\n",
      "1719/1719 [==============================] - 2s 919us/step - loss: 0.2850 - accuracy: 0.9186 - val_loss: 0.2357 - val_accuracy: 0.9354\n",
      "Epoch 3/30\n",
      "1719/1719 [==============================] - 1s 871us/step - loss: 0.2322 - accuracy: 0.9333 - val_loss: 0.2016 - val_accuracy: 0.9452\n",
      "Epoch 4/30\n",
      "1719/1719 [==============================] - 1s 869us/step - loss: 0.1979 - accuracy: 0.9427 - val_loss: 0.1758 - val_accuracy: 0.9512\n",
      "Epoch 5/30\n",
      "1719/1719 [==============================] - 1s 863us/step - loss: 0.1723 - accuracy: 0.9507 - val_loss: 0.1627 - val_accuracy: 0.9540\n",
      "Epoch 6/30\n",
      "1719/1719 [==============================] - 2s 954us/step - loss: 0.1531 - accuracy: 0.9564 - val_loss: 0.1449 - val_accuracy: 0.9586\n",
      "Epoch 7/30\n",
      "1719/1719 [==============================] - 2s 897us/step - loss: 0.1370 - accuracy: 0.9610 - val_loss: 0.1342 - val_accuracy: 0.9632\n",
      "Epoch 8/30\n",
      "1719/1719 [==============================] - 2s 935us/step - loss: 0.1240 - accuracy: 0.9647 - val_loss: 0.1234 - val_accuracy: 0.9666\n",
      "Epoch 9/30\n",
      "1719/1719 [==============================] - 2s 945us/step - loss: 0.1128 - accuracy: 0.9681 - val_loss: 0.1161 - val_accuracy: 0.9698\n",
      "Epoch 10/30\n",
      "1719/1719 [==============================] - 2s 875us/step - loss: 0.1036 - accuracy: 0.9710 - val_loss: 0.1115 - val_accuracy: 0.9702\n",
      "Epoch 11/30\n",
      "1719/1719 [==============================] - 1s 871us/step - loss: 0.0951 - accuracy: 0.9734 - val_loss: 0.1045 - val_accuracy: 0.9708\n",
      "Epoch 12/30\n",
      "1719/1719 [==============================] - 2s 879us/step - loss: 0.0880 - accuracy: 0.9754 - val_loss: 0.1015 - val_accuracy: 0.9722\n",
      "Epoch 13/30\n",
      "1719/1719 [==============================] - 1s 871us/step - loss: 0.0817 - accuracy: 0.9774 - val_loss: 0.0971 - val_accuracy: 0.9722\n",
      "Epoch 14/30\n",
      "1719/1719 [==============================] - 1s 864us/step - loss: 0.0758 - accuracy: 0.9791 - val_loss: 0.0931 - val_accuracy: 0.9732\n",
      "Epoch 15/30\n",
      "1719/1719 [==============================] - 2s 875us/step - loss: 0.0705 - accuracy: 0.9808 - val_loss: 0.0909 - val_accuracy: 0.9744\n",
      "Epoch 16/30\n",
      "1719/1719 [==============================] - 2s 876us/step - loss: 0.0656 - accuracy: 0.9817 - val_loss: 0.0875 - val_accuracy: 0.9754\n",
      "Epoch 17/30\n",
      "1719/1719 [==============================] - 1s 868us/step - loss: 0.0614 - accuracy: 0.9835 - val_loss: 0.0869 - val_accuracy: 0.9746\n",
      "Epoch 18/30\n",
      "1719/1719 [==============================] - 1s 869us/step - loss: 0.0572 - accuracy: 0.9849 - val_loss: 0.0829 - val_accuracy: 0.9760\n",
      "Epoch 19/30\n",
      "1719/1719 [==============================] - 1s 872us/step - loss: 0.0535 - accuracy: 0.9856 - val_loss: 0.0824 - val_accuracy: 0.9758\n",
      "Epoch 20/30\n",
      "1719/1719 [==============================] - 2s 902us/step - loss: 0.0502 - accuracy: 0.9867 - val_loss: 0.0821 - val_accuracy: 0.9758\n",
      "Epoch 21/30\n",
      "1719/1719 [==============================] - 2s 887us/step - loss: 0.0470 - accuracy: 0.9874 - val_loss: 0.0783 - val_accuracy: 0.9778\n",
      "Epoch 22/30\n",
      "1719/1719 [==============================] - 2s 876us/step - loss: 0.0444 - accuracy: 0.9883 - val_loss: 0.0774 - val_accuracy: 0.9778\n",
      "Epoch 23/30\n",
      "1719/1719 [==============================] - 1s 863us/step - loss: 0.0414 - accuracy: 0.9893 - val_loss: 0.0791 - val_accuracy: 0.9752\n",
      "Epoch 24/30\n",
      "1719/1719 [==============================] - 2s 877us/step - loss: 0.0390 - accuracy: 0.9904 - val_loss: 0.0767 - val_accuracy: 0.9784\n",
      "Epoch 25/30\n",
      "1719/1719 [==============================] - 1s 863us/step - loss: 0.0366 - accuracy: 0.9915 - val_loss: 0.0761 - val_accuracy: 0.9788\n",
      "Epoch 26/30\n",
      "1719/1719 [==============================] - 1s 870us/step - loss: 0.0346 - accuracy: 0.9914 - val_loss: 0.0751 - val_accuracy: 0.9794\n",
      "Epoch 27/30\n",
      "1719/1719 [==============================] - 2s 878us/step - loss: 0.0324 - accuracy: 0.9925 - val_loss: 0.0731 - val_accuracy: 0.9774\n",
      "Epoch 28/30\n",
      "1719/1719 [==============================] - 1s 870us/step - loss: 0.0305 - accuracy: 0.9927 - val_loss: 0.0742 - val_accuracy: 0.9792\n",
      "Epoch 29/30\n",
      "1719/1719 [==============================] - 1s 866us/step - loss: 0.0289 - accuracy: 0.9935 - val_loss: 0.0738 - val_accuracy: 0.9802\n",
      "Epoch 30/30\n",
      "1719/1719 [==============================] - 2s 887us/step - loss: 0.0271 - accuracy: 0.9944 - val_loss: 0.0750 - val_accuracy: 0.9792\n"
     ]
    }
   ],
   "source": [
    "EPOCHS = 30\n",
    "VALIDATION_SET = (X_valid, y_valid)\n",
    "\n",
    "history = model_clf.fit(X_train, y_train, epochs=EPOCHS,\n",
    "                    validation_data=VALIDATION_SET,callbacks=[tf_cb,tf_es])\n"
   ]
  },
  {
   "cell_type": "code",
   "execution_count": 61,
   "metadata": {
    "id": "DXMsCUOHT1DS"
   },
   "outputs": [],
   "source": [
    "import time\n",
    "import os\n",
    "\n",
    "def saveModel_path(model_dir=\"SAVED_MODELS\"):\n",
    "    os.makedirs(model_dir, exist_ok=True)\n",
    "    fileName = time.strftime(\"digit_classifier_%Y_%m_%d_%H_%M_%S_.h5\")    \n",
    "    model_path = os.path.join(model_dir, fileName)\n",
    "    print(f\"your model will be saved at the following location\\n{model_path}\")\n",
    "    return model_path\n"
   ]
  },
  {
   "cell_type": "code",
   "execution_count": 62,
   "metadata": {
    "colab": {
     "base_uri": "https://localhost:8080/"
    },
    "id": "j5vyx4ALT1DX",
    "outputId": "97de5131-0225-456b-9b76-b1792fb74f9f"
   },
   "outputs": [
    {
     "name": "stdout",
     "output_type": "stream",
     "text": [
      "your model will be saved at the following location\n",
      "SAVED_MODELS\\digit_classifier_2021_09_12_13_06_06_.h5\n"
     ]
    }
   ],
   "source": [
    "UNIQUE_PATH = model_clf.save(saveModel_path())"
   ]
  },
  {
   "cell_type": "code",
   "execution_count": 63,
   "metadata": {
    "colab": {
     "base_uri": "https://localhost:8080/"
    },
    "id": "fYWSNdS9T1Dj",
    "outputId": "80425d91-9eef-4557-8e5c-23088b86dc40"
   },
   "outputs": [
    {
     "data": {
      "text/plain": [
       "{'verbose': 1, 'epochs': 30, 'steps': 1719}"
      ]
     },
     "execution_count": 63,
     "metadata": {},
     "output_type": "execute_result"
    }
   ],
   "source": [
    "history.params\n"
   ]
  },
  {
   "cell_type": "code",
   "execution_count": 64,
   "metadata": {
    "colab": {
     "base_uri": "https://localhost:8080/",
     "height": 973
    },
    "id": "K9rtm3p2T1Do",
    "outputId": "7c58ca24-11b4-44e9-8231-78d60d869779"
   },
   "outputs": [
    {
     "data": {
      "text/html": [
       "<div>\n",
       "<style scoped>\n",
       "    .dataframe tbody tr th:only-of-type {\n",
       "        vertical-align: middle;\n",
       "    }\n",
       "\n",
       "    .dataframe tbody tr th {\n",
       "        vertical-align: top;\n",
       "    }\n",
       "\n",
       "    .dataframe thead th {\n",
       "        text-align: right;\n",
       "    }\n",
       "</style>\n",
       "<table border=\"1\" class=\"dataframe\">\n",
       "  <thead>\n",
       "    <tr style=\"text-align: right;\">\n",
       "      <th></th>\n",
       "      <th>loss</th>\n",
       "      <th>accuracy</th>\n",
       "      <th>val_loss</th>\n",
       "      <th>val_accuracy</th>\n",
       "    </tr>\n",
       "  </thead>\n",
       "  <tbody>\n",
       "    <tr>\n",
       "      <th>0</th>\n",
       "      <td>0.595675</td>\n",
       "      <td>0.843400</td>\n",
       "      <td>0.309120</td>\n",
       "      <td>0.9176</td>\n",
       "    </tr>\n",
       "    <tr>\n",
       "      <th>1</th>\n",
       "      <td>0.285037</td>\n",
       "      <td>0.918564</td>\n",
       "      <td>0.235701</td>\n",
       "      <td>0.9354</td>\n",
       "    </tr>\n",
       "    <tr>\n",
       "      <th>2</th>\n",
       "      <td>0.232201</td>\n",
       "      <td>0.933327</td>\n",
       "      <td>0.201587</td>\n",
       "      <td>0.9452</td>\n",
       "    </tr>\n",
       "    <tr>\n",
       "      <th>3</th>\n",
       "      <td>0.197868</td>\n",
       "      <td>0.942709</td>\n",
       "      <td>0.175781</td>\n",
       "      <td>0.9512</td>\n",
       "    </tr>\n",
       "    <tr>\n",
       "      <th>4</th>\n",
       "      <td>0.172319</td>\n",
       "      <td>0.950673</td>\n",
       "      <td>0.162743</td>\n",
       "      <td>0.9540</td>\n",
       "    </tr>\n",
       "    <tr>\n",
       "      <th>5</th>\n",
       "      <td>0.153080</td>\n",
       "      <td>0.956382</td>\n",
       "      <td>0.144938</td>\n",
       "      <td>0.9586</td>\n",
       "    </tr>\n",
       "    <tr>\n",
       "      <th>6</th>\n",
       "      <td>0.137050</td>\n",
       "      <td>0.961018</td>\n",
       "      <td>0.134242</td>\n",
       "      <td>0.9632</td>\n",
       "    </tr>\n",
       "    <tr>\n",
       "      <th>7</th>\n",
       "      <td>0.124037</td>\n",
       "      <td>0.964655</td>\n",
       "      <td>0.123412</td>\n",
       "      <td>0.9666</td>\n",
       "    </tr>\n",
       "    <tr>\n",
       "      <th>8</th>\n",
       "      <td>0.112782</td>\n",
       "      <td>0.968127</td>\n",
       "      <td>0.116094</td>\n",
       "      <td>0.9698</td>\n",
       "    </tr>\n",
       "    <tr>\n",
       "      <th>9</th>\n",
       "      <td>0.103630</td>\n",
       "      <td>0.971036</td>\n",
       "      <td>0.111511</td>\n",
       "      <td>0.9702</td>\n",
       "    </tr>\n",
       "    <tr>\n",
       "      <th>10</th>\n",
       "      <td>0.095136</td>\n",
       "      <td>0.973400</td>\n",
       "      <td>0.104521</td>\n",
       "      <td>0.9708</td>\n",
       "    </tr>\n",
       "    <tr>\n",
       "      <th>11</th>\n",
       "      <td>0.087973</td>\n",
       "      <td>0.975418</td>\n",
       "      <td>0.101513</td>\n",
       "      <td>0.9722</td>\n",
       "    </tr>\n",
       "    <tr>\n",
       "      <th>12</th>\n",
       "      <td>0.081720</td>\n",
       "      <td>0.977400</td>\n",
       "      <td>0.097093</td>\n",
       "      <td>0.9722</td>\n",
       "    </tr>\n",
       "    <tr>\n",
       "      <th>13</th>\n",
       "      <td>0.075847</td>\n",
       "      <td>0.979091</td>\n",
       "      <td>0.093082</td>\n",
       "      <td>0.9732</td>\n",
       "    </tr>\n",
       "    <tr>\n",
       "      <th>14</th>\n",
       "      <td>0.070521</td>\n",
       "      <td>0.980836</td>\n",
       "      <td>0.090893</td>\n",
       "      <td>0.9744</td>\n",
       "    </tr>\n",
       "    <tr>\n",
       "      <th>15</th>\n",
       "      <td>0.065552</td>\n",
       "      <td>0.981691</td>\n",
       "      <td>0.087488</td>\n",
       "      <td>0.9754</td>\n",
       "    </tr>\n",
       "    <tr>\n",
       "      <th>16</th>\n",
       "      <td>0.061430</td>\n",
       "      <td>0.983455</td>\n",
       "      <td>0.086911</td>\n",
       "      <td>0.9746</td>\n",
       "    </tr>\n",
       "    <tr>\n",
       "      <th>17</th>\n",
       "      <td>0.057211</td>\n",
       "      <td>0.984927</td>\n",
       "      <td>0.082938</td>\n",
       "      <td>0.9760</td>\n",
       "    </tr>\n",
       "    <tr>\n",
       "      <th>18</th>\n",
       "      <td>0.053514</td>\n",
       "      <td>0.985636</td>\n",
       "      <td>0.082410</td>\n",
       "      <td>0.9758</td>\n",
       "    </tr>\n",
       "    <tr>\n",
       "      <th>19</th>\n",
       "      <td>0.050196</td>\n",
       "      <td>0.986727</td>\n",
       "      <td>0.082077</td>\n",
       "      <td>0.9758</td>\n",
       "    </tr>\n",
       "    <tr>\n",
       "      <th>20</th>\n",
       "      <td>0.047047</td>\n",
       "      <td>0.987364</td>\n",
       "      <td>0.078295</td>\n",
       "      <td>0.9778</td>\n",
       "    </tr>\n",
       "    <tr>\n",
       "      <th>21</th>\n",
       "      <td>0.044362</td>\n",
       "      <td>0.988345</td>\n",
       "      <td>0.077432</td>\n",
       "      <td>0.9778</td>\n",
       "    </tr>\n",
       "    <tr>\n",
       "      <th>22</th>\n",
       "      <td>0.041449</td>\n",
       "      <td>0.989255</td>\n",
       "      <td>0.079102</td>\n",
       "      <td>0.9752</td>\n",
       "    </tr>\n",
       "    <tr>\n",
       "      <th>23</th>\n",
       "      <td>0.038970</td>\n",
       "      <td>0.990418</td>\n",
       "      <td>0.076692</td>\n",
       "      <td>0.9784</td>\n",
       "    </tr>\n",
       "    <tr>\n",
       "      <th>24</th>\n",
       "      <td>0.036617</td>\n",
       "      <td>0.991545</td>\n",
       "      <td>0.076084</td>\n",
       "      <td>0.9788</td>\n",
       "    </tr>\n",
       "    <tr>\n",
       "      <th>25</th>\n",
       "      <td>0.034607</td>\n",
       "      <td>0.991364</td>\n",
       "      <td>0.075141</td>\n",
       "      <td>0.9794</td>\n",
       "    </tr>\n",
       "    <tr>\n",
       "      <th>26</th>\n",
       "      <td>0.032432</td>\n",
       "      <td>0.992509</td>\n",
       "      <td>0.073081</td>\n",
       "      <td>0.9774</td>\n",
       "    </tr>\n",
       "    <tr>\n",
       "      <th>27</th>\n",
       "      <td>0.030542</td>\n",
       "      <td>0.992709</td>\n",
       "      <td>0.074193</td>\n",
       "      <td>0.9792</td>\n",
       "    </tr>\n",
       "    <tr>\n",
       "      <th>28</th>\n",
       "      <td>0.028902</td>\n",
       "      <td>0.993509</td>\n",
       "      <td>0.073838</td>\n",
       "      <td>0.9802</td>\n",
       "    </tr>\n",
       "    <tr>\n",
       "      <th>29</th>\n",
       "      <td>0.027069</td>\n",
       "      <td>0.994364</td>\n",
       "      <td>0.075010</td>\n",
       "      <td>0.9792</td>\n",
       "    </tr>\n",
       "  </tbody>\n",
       "</table>\n",
       "</div>"
      ],
      "text/plain": [
       "        loss  accuracy  val_loss  val_accuracy\n",
       "0   0.595675  0.843400  0.309120        0.9176\n",
       "1   0.285037  0.918564  0.235701        0.9354\n",
       "2   0.232201  0.933327  0.201587        0.9452\n",
       "3   0.197868  0.942709  0.175781        0.9512\n",
       "4   0.172319  0.950673  0.162743        0.9540\n",
       "5   0.153080  0.956382  0.144938        0.9586\n",
       "6   0.137050  0.961018  0.134242        0.9632\n",
       "7   0.124037  0.964655  0.123412        0.9666\n",
       "8   0.112782  0.968127  0.116094        0.9698\n",
       "9   0.103630  0.971036  0.111511        0.9702\n",
       "10  0.095136  0.973400  0.104521        0.9708\n",
       "11  0.087973  0.975418  0.101513        0.9722\n",
       "12  0.081720  0.977400  0.097093        0.9722\n",
       "13  0.075847  0.979091  0.093082        0.9732\n",
       "14  0.070521  0.980836  0.090893        0.9744\n",
       "15  0.065552  0.981691  0.087488        0.9754\n",
       "16  0.061430  0.983455  0.086911        0.9746\n",
       "17  0.057211  0.984927  0.082938        0.9760\n",
       "18  0.053514  0.985636  0.082410        0.9758\n",
       "19  0.050196  0.986727  0.082077        0.9758\n",
       "20  0.047047  0.987364  0.078295        0.9778\n",
       "21  0.044362  0.988345  0.077432        0.9778\n",
       "22  0.041449  0.989255  0.079102        0.9752\n",
       "23  0.038970  0.990418  0.076692        0.9784\n",
       "24  0.036617  0.991545  0.076084        0.9788\n",
       "25  0.034607  0.991364  0.075141        0.9794\n",
       "26  0.032432  0.992509  0.073081        0.9774\n",
       "27  0.030542  0.992709  0.074193        0.9792\n",
       "28  0.028902  0.993509  0.073838        0.9802\n",
       "29  0.027069  0.994364  0.075010        0.9792"
      ]
     },
     "execution_count": 64,
     "metadata": {},
     "output_type": "execute_result"
    }
   ],
   "source": [
    "pd.DataFrame(history.history)"
   ]
  },
  {
   "cell_type": "code",
   "execution_count": 65,
   "metadata": {
    "colab": {
     "base_uri": "https://localhost:8080/",
     "height": 324
    },
    "id": "P6nerhjCT1Ds",
    "outputId": "87f3050c-6b41-4470-8ee8-cf53cfffa8d5"
   },
   "outputs": [
    {
     "data": {
      "image/png": "[encoded data removed]",
      "text/plain": [
       "<Figure size 800x500 with 1 Axes>"
      ]
     },
     "metadata": {},
     "output_type": "display_data"
    }
   ],
   "source": [
    "pd.DataFrame(history.history).plot(figsize=(8, 5))\n",
    "plt.grid(True)\n",
    "plt.gca().set_ylim(0, 1)\n",
    "plt.show()"
   ]
  },
  {
   "cell_type": "code",
   "execution_count": 66,
   "metadata": {
    "colab": {
     "base_uri": "https://localhost:8080/"
    },
    "id": "TON0RxLNT1Dw",
    "outputId": "6ca7ff50-4114-4c9a-dea5-2b73a4dbb3de"
   },
   "outputs": [
    {
     "name": "stdout",
     "output_type": "stream",
     "text": [
      "313/313 [==============================] - 0s 594us/step - loss: 0.0725 - accuracy: 0.9778\n"
     ]
    },
    {
     "data": {
      "text/plain": [
       "[0.07246695458889008, 0.9778000116348267]"
      ]
     },
     "execution_count": 66,
     "metadata": {},
     "output_type": "execute_result"
    }
   ],
   "source": [
    "model_clf.evaluate(X_test, y_test)"
   ]
  },
  {
   "cell_type": "code",
   "execution_count": 67,
   "metadata": {
    "colab": {
     "base_uri": "https://localhost:8080/"
    },
    "id": "JRJ8ciK0T1D1",
    "outputId": "cf89c0b4-3e60-4662-fde5-0ee80c104f76"
   },
   "outputs": [
    {
     "data": {
      "text/plain": [
       "array([[0., 0., 0., 0., 0., 0., 0., 1., 0., 0.],\n",
       "       [0., 0., 1., 0., 0., 0., 0., 0., 0., 0.],\n",
       "       [0., 1., 0., 0., 0., 0., 0., 0., 0., 0.]], dtype=float32)"
      ]
     },
     "execution_count": 67,
     "metadata": {},
     "output_type": "execute_result"
    }
   ],
   "source": [
    "X_new = X_test[:3]\n",
    "y_proba = model_clf.predict(X_new)\n",
    "y_proba.round(2)"
   ]
  },
  {
   "cell_type": "code",
   "execution_count": 43,
   "metadata": {
    "colab": {
     "base_uri": "https://localhost:8080/"
    },
    "id": "ofk-RtanT1D5",
    "outputId": "31292c9b-cc43-4f73-9d2e-373a0da08f58"
   },
   "outputs": [
    {
     "data": {
      "text/plain": [
       "array([8, 3, 0], dtype=int64)"
      ]
     },
     "execution_count": 43,
     "metadata": {},
     "output_type": "execute_result"
    }
   ],
   "source": [
    "y_pred = np.argmax(model_clf.predict(X_new), axis=-1)\n",
    "y_pred"
   ]
  },
  {
   "cell_type": "code",
   "execution_count": 39,
   "metadata": {
    "id": "NzDbztGcT1D-"
   },
   "outputs": [],
   "source": [
    "y_test_new = y_test[:3]"
   ]
  },
  {
   "cell_type": "code",
   "execution_count": 40,
   "metadata": {
    "colab": {
     "base_uri": "https://localhost:8080/",
     "height": 811
    },
    "id": "ie5Kz7BBT1EC",
    "outputId": "a01fb2f1-f2a1-44fd-c6bd-b7750efa8c76"
   },
   "outputs": [
    {
     "data": {
      "image/png": "[encoded data removed]",
      "text/plain": [
       "<Figure size 640x480 with 1 Axes>"
      ]
     },
     "metadata": {},
     "output_type": "display_data"
    },
    {
     "name": "stdout",
     "output_type": "stream",
     "text": [
      "------------------------------------------------------------\n"
     ]
    },
    {
     "data": {
      "image/png": "[encoded data removed]",
      "text/plain": [
       "<Figure size 640x480 with 1 Axes>"
      ]
     },
     "metadata": {},
     "output_type": "display_data"
    },
    {
     "name": "stdout",
     "output_type": "stream",
     "text": [
      "------------------------------------------------------------\n"
     ]
    },
    {
     "data": {
      "image/png": "[encoded data removed]",
      "text/plain": [
       "<Figure size 640x480 with 1 Axes>"
      ]
     },
     "metadata": {},
     "output_type": "display_data"
    },
    {
     "name": "stdout",
     "output_type": "stream",
     "text": [
      "------------------------------------------------------------\n"
     ]
    }
   ],
   "source": [
    "for data, pred, actual in zip(X_new, y_pred, y_test_new):\n",
    "    plt.imshow(data, cmap=\"binary\")\n",
    "    plt.title(f\"Predicted: {pred}, Actual: {actual}\")\n",
    "    plt.axis('off')\n",
    "    plt.show()\n",
    "    print(\"---\"*20)"
   ]
  },
  {
   "cell_type": "code",
   "execution_count": 39,
   "metadata": {
    "id": "z4-YqwoJvJHb"
   },
   "outputs": [],
   "source": [
    "weights, biases = hidden1.get_weights()\n"
   ]
  },
  {
   "cell_type": "code",
   "execution_count": 40,
   "metadata": {
    "colab": {
     "base_uri": "https://localhost:8080/"
    },
    "id": "9KsknsJXvKqm",
    "outputId": "8bdf7c2e-8409-41e7-839b-957968c7a21c"
   },
   "outputs": [
    {
     "data": {
      "text/plain": [
       "array([[-0.01830811, -0.03693181, -0.06006185, ...,  0.03712932,\n",
       "        -0.04005555,  0.04787715],\n",
       "       [ 0.04890344, -0.02852399,  0.01360046, ..., -0.07387923,\n",
       "         0.00056285, -0.06061997],\n",
       "       [ 0.00737176, -0.04407408, -0.04620466, ..., -0.03192709,\n",
       "         0.01851263, -0.00423898],\n",
       "       ...,\n",
       "       [ 0.0431923 , -0.02408025, -0.06496853, ...,  0.00414099,\n",
       "         0.02855358,  0.05935416],\n",
       "       [-0.03334672,  0.02966919,  0.06768732, ...,  0.03019176,\n",
       "        -0.01890197, -0.04265067],\n",
       "       [ 0.02419285, -0.0110098 ,  0.00993276, ...,  0.00709484,\n",
       "         0.0383279 ,  0.05958895]], dtype=float32)"
      ]
     },
     "execution_count": 40,
     "metadata": {},
     "output_type": "execute_result"
    }
   ],
   "source": [
    "weights"
   ]
  },
  {
   "cell_type": "code",
   "execution_count": 41,
   "metadata": {
    "colab": {
     "base_uri": "https://localhost:8080/"
    },
    "id": "V4rUxFfgvM4o",
    "outputId": "1b6ebf82-0bc3-436a-a11e-4175db5f15f0"
   },
   "outputs": [
    {
     "data": {
      "text/plain": [
       "array([-1.03687355e-02,  2.94235870e-02,  3.53798866e-02,  1.85089756e-03,\n",
       "       -2.24327408e-02, -4.70324606e-02,  4.17847596e-02,  2.31322832e-02,\n",
       "        9.40145366e-03, -3.69050168e-02, -1.79943126e-02,  6.42027706e-02,\n",
       "        3.93792838e-02,  1.05170682e-02,  1.43343098e-02,  3.54438685e-02,\n",
       "       -7.15645999e-02,  6.25751019e-02,  9.44378302e-02,  3.20971310e-02,\n",
       "        4.17620577e-02, -2.86459625e-02,  1.90045908e-02, -9.91887413e-03,\n",
       "        7.03046694e-02,  1.97789986e-02, -2.26167999e-02,  1.56674313e-03,\n",
       "        3.62456813e-02,  3.48091498e-03, -8.90423283e-02, -2.52551353e-03,\n",
       "        2.85056513e-02,  1.16978111e-02,  2.52653621e-02,  2.06925869e-02,\n",
       "        3.56612131e-02, -4.40435205e-03, -1.55155929e-02,  1.80641823e-02,\n",
       "        2.61174981e-02, -8.07871390e-03,  1.61917564e-02,  4.04726788e-02,\n",
       "        9.24764201e-03,  7.20022200e-03,  2.98754452e-03,  2.96561513e-02,\n",
       "        2.60267667e-02,  1.67113785e-02, -9.38562211e-03,  8.77051204e-02,\n",
       "        4.49130088e-02,  3.27574983e-02,  1.89752318e-02, -1.91468298e-02,\n",
       "        2.57272681e-04,  3.16836946e-02,  1.26282135e-02, -1.14392344e-04,\n",
       "        1.82694588e-02,  3.56291677e-03,  2.12526955e-02,  2.06489991e-02,\n",
       "        4.64466661e-02,  1.39519135e-02,  3.85269849e-03,  5.40305860e-02,\n",
       "        6.52516028e-03, -1.36950407e-02,  4.24708538e-02,  9.18912422e-03,\n",
       "       -1.57161094e-02,  4.09963131e-02,  2.08496489e-02,  5.37635535e-02,\n",
       "        4.56100740e-02,  1.85161252e-02,  1.06815279e-01,  2.71907952e-02,\n",
       "        4.60771136e-02,  1.84923527e-03,  1.62902270e-02,  2.43467484e-02,\n",
       "        4.21626121e-02, -1.74559616e-02,  6.69779349e-03, -8.14888440e-03,\n",
       "        4.85593379e-02, -4.10622312e-03,  5.98045252e-03,  4.94972579e-02,\n",
       "        7.61526078e-03,  3.79560404e-02,  8.57297797e-03,  3.11551541e-02,\n",
       "        4.29269951e-03,  7.92516489e-03,  2.28557382e-02,  2.95345578e-02,\n",
       "        1.96403079e-02, -1.35376099e-02,  2.41051000e-02,  4.16074443e-04,\n",
       "       -1.99394170e-02,  3.20027657e-02, -1.46061815e-02,  1.62664265e-03,\n",
       "       -1.71962231e-02, -4.02934104e-02, -3.88679951e-02,  4.65582199e-02,\n",
       "        3.06771379e-02,  1.66529641e-02, -2.49990690e-02,  3.88676338e-02,\n",
       "       -4.42771427e-02, -3.05811828e-03, -3.74637097e-02, -2.66037602e-02,\n",
       "        1.29044857e-02,  2.28372756e-02,  5.41412160e-02, -3.53839956e-02,\n",
       "        3.00258268e-02,  2.25548204e-02,  4.42875177e-03, -1.20234198e-03,\n",
       "       -4.44249599e-04, -2.07230058e-02,  8.85576103e-03,  2.89892033e-02,\n",
       "       -6.77271411e-02,  5.11007160e-02,  7.21080303e-02,  1.63691901e-02,\n",
       "       -1.76464152e-02,  2.67440714e-02, -7.44213676e-03,  3.85107808e-02,\n",
       "       -4.92745917e-03,  9.90954787e-03, -7.29738995e-02,  5.48316864e-03,\n",
       "        2.62843305e-03,  2.27066614e-02,  5.74557073e-02,  2.58573075e-03,\n",
       "        5.29668890e-02,  4.35286909e-02, -2.05371454e-02, -1.13829868e-02,\n",
       "        1.31343408e-02,  2.28692358e-03,  6.52400553e-02, -3.92735354e-04,\n",
       "       -1.71271805e-02,  3.37540358e-02, -1.38168354e-02,  2.27723271e-02,\n",
       "        1.27786417e-02,  6.19155616e-02,  9.52820256e-02,  3.06262057e-02,\n",
       "       -9.04715899e-03,  2.37748511e-02,  5.47037497e-02, -1.90866168e-03,\n",
       "        1.32099306e-02, -8.15738458e-03, -2.21212562e-02,  1.04114093e-01,\n",
       "        4.61433753e-02, -3.37977079e-03, -4.85567898e-02,  3.07648927e-02,\n",
       "        1.09960325e-02, -3.43696289e-02, -1.69507868e-03, -1.40384361e-02,\n",
       "        3.07833720e-02,  1.19089969e-02,  1.62712317e-02, -8.44793301e-03,\n",
       "       -5.67841120e-02, -1.72265409e-05,  7.60837123e-02,  2.50029806e-02,\n",
       "        4.46463339e-02, -3.66851964e-05,  1.14228670e-02, -1.05080567e-01,\n",
       "       -1.54282833e-02,  3.76576707e-02,  1.72247030e-02,  2.07958813e-03,\n",
       "        2.58105937e-02,  2.86156498e-02,  2.88412254e-03,  2.55158730e-02,\n",
       "       -1.17626099e-03,  2.78576314e-02,  4.85789627e-02,  9.63881146e-03,\n",
       "        6.28127251e-03,  9.21815913e-03,  5.37143797e-02, -8.00430123e-03,\n",
       "       -1.31529085e-02,  9.91565734e-03,  1.88925602e-02,  1.04961628e-02,\n",
       "        1.19363144e-02, -2.80224215e-02, -1.64639205e-02,  1.78154595e-02,\n",
       "       -8.69173650e-03,  2.00322103e-02,  7.40260109e-02,  4.03508842e-02,\n",
       "       -4.00673486e-02, -1.25108296e-02,  2.90514361e-02, -3.57760396e-03,\n",
       "        1.49556044e-02,  1.23408213e-02,  3.61008607e-02,  1.52490130e-02,\n",
       "       -3.18108797e-02, -3.47961187e-02,  3.92513759e-02,  3.08528151e-02,\n",
       "        4.24400577e-03,  1.93160903e-02,  2.29094457e-02,  3.49803753e-02,\n",
       "        2.23889798e-02,  7.66449189e-03, -2.01996267e-02,  6.25558794e-02,\n",
       "        2.33074483e-02,  7.28115961e-02,  9.69722420e-02,  3.88124911e-03,\n",
       "        9.62630436e-02, -2.66288593e-02,  2.72108298e-02, -2.37983838e-02,\n",
       "        2.29804665e-02, -1.15836021e-02,  2.41128653e-02, -2.06538513e-02,\n",
       "        6.46508187e-02,  4.35610339e-02,  6.85392879e-03,  2.74644862e-03,\n",
       "        5.61812930e-02, -2.45956867e-03,  3.95590588e-02,  2.62679067e-02,\n",
       "        3.95896435e-02,  1.62327744e-03, -2.43373904e-02, -1.54286139e-02,\n",
       "        4.68589105e-02, -4.57999967e-02, -1.13521628e-02,  1.27090863e-03,\n",
       "        4.24803235e-02,  1.03379535e-02,  2.57849433e-02, -6.89921726e-05,\n",
       "        1.66739710e-02,  3.60175222e-02, -2.13092212e-02, -1.58147402e-02,\n",
       "       -1.75665990e-02,  4.39231247e-02, -5.04724169e-03,  7.03799203e-02,\n",
       "       -2.05565523e-02,  7.21424492e-03,  5.79166459e-03,  2.26617369e-04,\n",
       "        1.84255652e-02, -4.18075733e-03, -1.92997586e-02, -2.20670514e-02,\n",
       "        6.36433214e-02, -1.36871263e-02,  2.50378922e-02, -6.18614489e-03,\n",
       "        3.23125138e-03, -1.06389550e-02,  3.76523249e-02,  8.93314276e-03,\n",
       "       -2.20533856e-03,  5.58599457e-02, -1.63054746e-02, -2.52806209e-02],\n",
       "      dtype=float32)"
      ]
     },
     "execution_count": 41,
     "metadata": {},
     "output_type": "execute_result"
    }
   ],
   "source": [
    "biases"
   ]
  },
  {
   "cell_type": "markdown",
   "metadata": {
    "id": "qOIt8yhXT1EM"
   },
   "source": [
    "<iframe src=\"https://slides.com/supremecommander/basic-neural-network/embed\" width=\"576\" height=\"420\" scrolling=\"no\" frameborder=\"0\" webkitallowfullscreen mozallowfullscreen allowfullscreen></iframe>"
   ]
  },
  {
   "cell_type": "markdown",
   "metadata": {
    "id": "kfSJUWAST1ER"
   },
   "source": [
    "<iframe src=\"https://slides.com/supremecommander/basic-neural-network/embed\" width=\"576\" height=\"420\" scrolling=\"no\" frameborder=\"0\" webkitallowfullscreen mozallowfullscreen allowfullscreen></iframe>"
   ]
  },
  {
   "cell_type": "code",
   "execution_count": 35,
   "metadata": {},
   "outputs": [
    {
     "name": "stdout",
     "output_type": "stream",
     "text": [
      "saving logs at:logs/fit\\21_09_12_13_00_45\n"
     ]
    }
   ],
   "source": [
    "import time\n",
    "\n",
    "def get_log_path(log_dir=\"logs/fit\"):\n",
    "    file_name=time.strftime(\"%y_%m_%d_%H_%M_%S\")\n",
    "    log_path=os.path.join(log_dir,file_name)\n",
    "    print(f\"saving logs at:{log_path}\")\n",
    "    return log_path\n",
    "log_dir=get_log_path()\n",
    "tf_cb=tf.keras.callbacks.TensorBoard(log_dir=log_dir)"
   ]
  },
  {
   "cell_type": "code",
   "execution_count": 48,
   "metadata": {},
   "outputs": [
    {
     "name": "stdout",
     "output_type": "stream",
     "text": [
      "The tensorboard extension is already loaded. To reload it, use:\n",
      "  %reload_ext tensorboard\n"
     ]
    }
   ],
   "source": [
    "%load_ext tensorboard"
   ]
  },
  {
   "cell_type": "code",
   "execution_count": 50,
   "metadata": {},
   "outputs": [
    {
     "data": {
      "text/plain": [
       "Reusing TensorBoard on port 6006 (pid 12932), started 0:01:39 ago. (Use '!kill 12932' to kill it.)"
      ]
     },
     "metadata": {},
     "output_type": "display_data"
    },
    {
     "data": {
      "text/html": [
       "\n",
       "      <iframe id=\"tensorboard-frame-4d852b928ae129f7\" width=\"100%\" height=\"800\" frameborder=\"0\">\n",
       "      </iframe>\n",
       "      <script>\n",
       "        (function() {\n",
       "          const frame = document.getElementById(\"tensorboard-frame-4d852b928ae129f7\");\n",
       "          const url = new URL(\"/\", window.location);\n",
       "          const port = 6006;\n",
       "          if (port) {\n",
       "            url.port = port;\n",
       "          }\n",
       "          frame.src = url;\n",
       "        })();\n",
       "      </script>\n",
       "    "
      ],
      "text/plain": [
       "<IPython.core.display.HTML object>"
      ]
     },
     "metadata": {},
     "output_type": "display_data"
    }
   ],
   "source": [
    "%tensorboard --logdir logs/fit"
   ]
  },
  {
   "cell_type": "markdown",
   "metadata": {},
   "source": [
    "%pwd"
   ]
  },
  {
   "cell_type": "code",
   "execution_count": 51,
   "metadata": {},
   "outputs": [
    {
     "name": "stdout",
     "output_type": "stream",
     "text": [
      " Volume in drive C is Acer\n",
      " Volume Serial Number is 7698-5413\n",
      "\n",
      " Directory of C:\\Users\\anish\\Deep Learning\n",
      "\n",
      "08-08-2021  18:42    <DIR>          .\n",
      "08-08-2021  18:42    <DIR>          ..\n",
      "08-08-2021  17:27    <DIR>          .ipynb_checkpoints\n",
      "07-08-2021  11:11           161,079 Classification.ipynb\n",
      "08-08-2021  18:30    <DIR>          logs\n",
      "08-08-2021  18:15    <DIR>          SAVED_MODELS\n",
      "08-08-2021  18:42           270,228 Tensorflow_Keras_Classifier_More_obervation (1).ipynb\n",
      "               2 File(s)        431,307 bytes\n",
      "               5 Dir(s)  106,653,151,232 bytes free\n"
     ]
    }
   ],
   "source": [
    "%ls"
   ]
  },
  {
   "cell_type": "code",
   "execution_count": 34,
   "metadata": {},
   "outputs": [
    {
     "name": "stdout",
     "output_type": "stream",
     "text": [
      "\"Avnish\"\n"
     ]
    }
   ],
   "source": [
    "%echo \"Avnish\""
   ]
  },
  {
   "cell_type": "code",
   "execution_count": 33,
   "metadata": {},
   "outputs": [],
   "source": [
    "tf_es=tf.keras.callbacks.EarlyStopping(patience=5,restore_best_weights=True)"
   ]
  },
  {
   "cell_type": "code",
   "execution_count": null,
   "metadata": {},
   "outputs": [],
   "source": []
  }
 ],
 "metadata": {
  "accelerator": "GPU",
  "colab": {
   "collapsed_sections": [
    "VQPHM-DwT1B9",
    "3WlLdDzET1B-"
   ],
   "name": "Tensorflow_Keras_Classifier_More_obervation (1).ipynb",
   "provenance": []
  },
  "kernelspec": {
   "display_name": "Python 3",
   "language": "python",
   "name": "python3"
  },
  "language_info": {
   "codemirror_mode": {
    "name": "ipython",
    "version": 3
   },
   "file_extension": ".py",
   "mimetype": "text/x-python",
   "name": "python",
   "nbconvert_exporter": "python",
   "pygments_lexer": "ipython3",
   "version": "3.7.0"
  }
 },
 "nbformat": 4,
 "nbformat_minor": 4
}
